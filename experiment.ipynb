{
 "cells": [
  {
   "cell_type": "code",
   "execution_count": null,
   "metadata": {},
   "outputs": [],
   "source": [
    "import os\n",
    "\n",
    "def install_cairo():\n",
    "  \n",
    "    def install_not_needed():\n",
    "        try:\n",
    "            import cairo\n",
    "            return(True)\n",
    "        except ImportError:\n",
    "            pass\n",
    "            return(False)\n",
    "\n",
    "    def printlog(cmdout,log): \n",
    "        for line in cmdout:\n",
    "            print(line, file = log)\n",
    "\n",
    "    if install_not_needed():\n",
    "        print(\"Requirement already satisfied: cairo\")\n",
    "        return\n",
    "\n",
    "    # Setup installation log\n",
    "    if os.path.exists(\"setup.log\"):\n",
    "        os.remove(\"setup.log\")  \n",
    "    log = open(\"setup.log\",\"a\")\n",
    "      \n",
    "    print(\"\\nSetup required \", file = log)\n",
    "\n",
    "    from datetime import datetime\n",
    "\n",
    "    print(datetime.utcnow(), file = log)\n",
    "    import sys\n",
    "    print(\"Log Python Version\", file = log)\n",
    "    print(sys.version, file=log)\n",
    "    cmdout = !uname -a\n",
    "    print(\"ID OS version\", file = log)\n",
    "    printlog(cmdout, log)\n",
    "    print(\"Updating apt-get\", file = log)  \n",
    "    cmdout = !apt-get update    \n",
    "    print(\"Installing cairo\", file = log)  \n",
    "    cmdout = !apt-get -y install libcairo2-dev\n",
    "    printlog(cmdout, log)\n",
    "\n",
    "    if install_not_needed():\n",
    "        print(\"Successfully installed cairo\")\n",
    "    else:\n",
    "        print(\"Install failed, check setup.log\")\n",
    "\n",
    "install_cairo()\n",
    "!pip install pycairo\n",
    "!pip install git+https://github.com/shamp00/pyRavenMatrices#egg=pyRavenMatrices\n",
    "!pip install numba\n",
    "!pip install colorama\n",
    "!git reset --hard\n",
    "!git pull\n",
    "print('OK')"
   ]
  },
  {
   "cell_type": "code",
   "execution_count": 5,
   "metadata": {},
   "outputs": [],
   "source": [
    "# Turn on retina plots\n",
    "%config InlineBackend.figure_format ='retina'\n",
    "\n",
    "# Turn on interactive plots\n",
    "%matplotlib inline\n",
    "%load_ext autoreload\n",
    "%autoreload 0\n",
    "%matplotlib notebook"
   ]
  },
  {
   "cell_type": "code",
   "execution_count": null,
   "metadata": {},
   "outputs": [],
   "source": [
    "%load RPM.py"
   ]
  },
  {
   "cell_type": "code",
   "execution_count": null,
   "metadata": {},
   "outputs": [],
   "source": [
    "%load printing.py"
   ]
  }
 ],
 "metadata": {
  "file_extension": ".py",
  "kernelspec": {
   "display_name": "Python 3",
   "language": "python",
   "name": "python3"
  },
  "language_info": {
   "codemirror_mode": {
    "name": "ipython",
    "version": 3
   },
   "file_extension": ".py",
   "mimetype": "text/x-python",
   "name": "python",
   "nbconvert_exporter": "python",
   "pygments_lexer": "ipython3",
   "version": "3.6.7"
  },
  "mimetype": "text/x-python",
  "name": "python",
  "npconvert_exporter": "python",
  "pygments_lexer": "ipython3",
  "version": 3
 },
 "nbformat": 4,
 "nbformat_minor": 2
}
